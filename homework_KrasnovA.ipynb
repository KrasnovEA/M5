{
  "nbformat": 4,
  "nbformat_minor": 0,
  "metadata": {
    "kernelspec": {
      "display_name": "Python 3",
      "language": "python",
      "name": "python3"
    },
    "language_info": {
      "codemirror_mode": {
        "name": "ipython",
        "version": 3
      },
      "file_extension": ".py",
      "mimetype": "text/x-python",
      "name": "python",
      "nbconvert_exporter": "python",
      "pygments_lexer": "ipython3",
      "version": "3.7.4"
    },
    "colab": {
      "name": "homework.ipynb",
      "provenance": [],
      "collapsed_sections": [],
      "toc_visible": true
    }
  },
  "cells": [
    {
      "cell_type": "markdown",
      "metadata": {
        "id": "Ss8UTUe8SXpd",
        "colab_type": "text"
      },
      "source": [
        "# Практическое задание: построение модели предсказания продаж в торговой сети\n",
        "\n",
        "В этом практическом задании вам нужно будет построить модель, делающую долгосрочный прогноз продаж товаров в торговой сети.\n",
        "Задание основано на контесте: https://www.kaggle.com/c/m5-forecasting-accuracy. \n",
        "\n",
        "В данном задании вы не только построите модель, но и спроектируете небольшую архитектуру, позволяющую эффективно пересчитывать предсказания модели на новых данных. \n",
        "\n",
        "**Внимание**. Любые скрипты, параметры запуска и т.п. можно редактировать в разумных пределах."
      ]
    },
    {
      "cell_type": "markdown",
      "metadata": {
        "id": "SZ7f3WgbSXpe",
        "colab_type": "text"
      },
      "source": [
        "## Этап 1: Фильтрация дней \n",
        "\n",
        "Напомним, что в данной задаче вам нужно предсказать на 28 дней вперёд продажи 3049 товаров в 10 магазинах.\n",
        "\n",
        "Скорее всего для обучения хорошей модели не потребуется информация за всю историю продаж продуктов, более того информация по достаточно давним продажам может даже вредить.\n",
        "Для экономии памяти лучше всего  сразу избавиться от дней, которые не будут входить в обучение.\n",
        "На этапе объединения всех табличных данных в одну, необходимо оставить только необходимое для обучения количество дней. \n",
        "\n",
        "Для того, чтобы сгенерировать такой массив, вам достаточно запустить скрипт `generate_melted_df`, аргумент `min_train_day` отвечает за первый день, который будет добавлен в выборку. "
      ]
    },
    {
      "cell_type": "code",
      "metadata": {
        "id": "s1MM1Yr4SXpf",
        "colab_type": "code",
        "outputId": "e230030c-0dfe-460c-c756-b55620910153",
        "colab": {
          "base_uri": "https://localhost:8080/",
          "height": 87
        }
      },
      "source": [
        "! python feature_generation/generate_melted_df.py --min_train_day=1180"
      ],
      "execution_count": 0,
      "outputs": [
        {
          "output_type": "stream",
          "text": [
            "tcmalloc: large alloc 3314147328 bytes == 0x17d72a000 @  0x7fe562b69001 0x7fe5604bb765 0x7fe56051fbb0 0x7fe56051ff37 0x7fe5605b7f28 0x50a635 0x50cd96 0x509758 0x50a48d 0x50bfb4 0x509758 0x50a48d 0x50bfb4 0x509758 0x50a48d 0x50bfb4 0x509758 0x50a48d 0x50bfb4 0x507d64 0x509a90 0x50a48d 0x50cd96 0x507d64 0x509a90 0x50a48d 0x50cd96 0x507d64 0x509042 0x594931 0x549e5f\n",
            "tcmalloc: large alloc 1301069824 bytes == 0x6e348000 @  0x7fe562b69001 0x7fe5604bb765 0x7fe56051fbb0 0x7fe56051ff37 0x7fe5605b7f28 0x50a635 0x50cd96 0x507d64 0x509a90 0x50a48d 0x50cd96 0x507d64 0x509a90 0x50a48d 0x50cd96 0x507d64 0x509a90 0x50a48d 0x50bfb4 0x507d64 0x509a90 0x50a48d 0x50cd96 0x507d64 0x509a90 0x50a48d 0x50cd96 0x507d64 0x509042 0x594931 0x59fc4e\n",
            "tcmalloc: large alloc 1452843008 bytes == 0xc48c4000 @  0x7fe562b671e7 0x7fe5604bb5e1 0x7fe56051fc78 0x7fe56051fd93 0x7fe5605bdea8 0x7fe5605be704 0x7fe5605be852 0x566d63 0x59fc4e 0x7fe56050b4ed 0x50a2bf 0x50bfb4 0x507d64 0x509a90 0x50a48d 0x50bfb4 0x507d64 0x588d41 0x59fc4e 0x7fe56050b4ed 0x50a2bf 0x50bfb4 0x507d64 0x509a90 0x50a48d 0x50bfb4 0x507d64 0x509a90 0x50a48d 0x50cd96 0x509758\n"
          ],
          "name": "stdout"
        }
      ]
    },
    {
      "cell_type": "code",
      "metadata": {
        "id": "bWsSZ16rSXpl",
        "colab_type": "code",
        "colab": {}
      },
      "source": [
        "import pandas as pd\n",
        "import numpy as np"
      ],
      "execution_count": 0,
      "outputs": []
    },
    {
      "cell_type": "code",
      "metadata": {
        "id": "qZ3S6dwoSf0u",
        "colab_type": "code",
        "outputId": "33d1df17-aec8-41fb-84df-4f9502f7ab43",
        "colab": {
          "base_uri": "https://localhost:8080/",
          "height": 34
        }
      },
      "source": [
        "from google.colab import drive\n",
        "drive.mount('/content/drive/')"
      ],
      "execution_count": 0,
      "outputs": [
        {
          "output_type": "stream",
          "text": [
            "Drive already mounted at /content/drive/; to attempt to forcibly remount, call drive.mount(\"/content/drive/\", force_remount=True).\n"
          ],
          "name": "stdout"
        }
      ]
    },
    {
      "cell_type": "code",
      "metadata": {
        "id": "JZlGRVf6SXpp",
        "colab_type": "code",
        "colab": {}
      },
      "source": [
        "df = pd.read_csv('data/melted_train.csv')"
      ],
      "execution_count": 0,
      "outputs": []
    },
    {
      "cell_type": "code",
      "metadata": {
        "id": "4efygiP8SXpt",
        "colab_type": "code",
        "colab": {}
      },
      "source": [
        "df = df.sort_values(by=['id', 'day_as_int'])"
      ],
      "execution_count": 0,
      "outputs": []
    },
    {
      "cell_type": "code",
      "metadata": {
        "id": "ETdI-3wzSXpx",
        "colab_type": "code",
        "colab": {}
      },
      "source": [
        "df.to_csv('data/melted_train.csv')"
      ],
      "execution_count": 0,
      "outputs": []
    },
    {
      "cell_type": "markdown",
      "metadata": {
        "id": "RYy_FSZ_SXp0",
        "colab_type": "text"
      },
      "source": [
        "## Этап 2: Генерация признаков (3 балла)\n",
        "\n",
        "Для обучения модели понадобится сгенерировать признаки, содержащие информацию о прошлых продажах товара.\n",
        "Пусть $y_i$ — количество продаж каждого отдельного ряда в момент времени i.\n",
        "Для удобства изложения, введём для каждого признака обозначение через результат выполнения некоторой функции.\n",
        "\n",
        "#### Признаки, которые необходимо добавить в модель\n",
        "\n",
        "* Количество продаж $i$ дней назад (shift_i):\n",
        "\n",
        "    $$\n",
        "    {\n",
        "    f(t, i, 1, 1) = y_{t-i} \n",
        "    }\n",
        "    $$\n",
        "\n",
        "\n",
        "* Среднее число продаж за $j$ дней на момент времени $i$ дней назад (mean_i_j): \n",
        "    \n",
        "    $$\n",
        "    {\n",
        "    f(t, i, j, 1) = \\frac{1}{j}\\sum_{k=0}^{j-1} y_{t-i-k} \n",
        "    }\n",
        "    $$\n",
        "\n",
        "* Среднее число продаж за $j$ последних дней с периодом $d$ на момент времени $i$ дней назад (mean_i_j_period_d):\n",
        "    \n",
        "    $$ \n",
        "    {\n",
        "    f(t, i, j, d) = \\frac{1}{j}\\sum_{k=0}^{j-1} y_{t-i-k * d} \n",
        "    }\n",
        "    $$\n",
        "\n",
        "\n",
        "* Экспоненциальное скользящее среднее (c коэффициентом $\\beta$) числа продаж на момент времени $i$ дней назад (exp_mean_i_beta):\n",
        "\n",
        "    $$\n",
        "    {\n",
        "    g(t, i, \\beta, 1) = \\frac{\\sum\\limits_{k=0}^{t - i} y_{t-i-k} \\beta^k}{\\sum\\limits_{k=0}^{t - i} \\beta^k}\n",
        "    }\n",
        "    $$\n",
        "    \n",
        "    \n",
        "* Экспоненциальное скользящее среднее (c коэффициентом $\\beta$) числа продаж с периодом $d$ на момент времени $i$ дней назад (exp_mean_i_beta_period_d):\n",
        "    \n",
        "    $$ \n",
        "    {\n",
        "    g(t, i, \\beta, d) = \\frac{\\sum\\limits_{k=0}^{[(t-i)/d]} y_{t-i-k * d} \\beta^{k}}{\\sum\\limits_{k=0}^{[(t-i)/d]} \\beta^k}\n",
        "    }\n",
        "    $$\n",
        "\n",
        "Обратите внимание, что некоторые признаки являются частными случаями других признаков. Однако, возможно, функцию для их вычисления следует написать отдельно, для оптимизации времени выполнения.\n",
        "\n",
        "Реализацию генерации признаков необходимо выполнить в модуле `generate_past_demand_features`. После реализации признаки можно сгенерировать запустив скрипт из командной строки (посмотреть пример сопоставления параметров признакм можно внутри модуля)."
      ]
    },
    {
      "cell_type": "markdown",
      "metadata": {
        "id": "aBmZHvC2SXp1",
        "colab_type": "text"
      },
      "source": [
        "#### Пример"
      ]
    },
    {
      "cell_type": "code",
      "metadata": {
        "id": "gAmtdwpuSXp2",
        "colab_type": "code",
        "colab": {}
      },
      "source": [
        "import json\n",
        "import re\n",
        "\n",
        "\n",
        "config = json.dumps({\n",
        "    'shift_parameters': [7,14,21,28,35,42,49],\n",
        "    'mean_parameters': [],\n",
        "    'mean_period_parameters': [(7,7,7)],\n",
        "    'exp_mean_parameters': [],\n",
        "    'exp_mean_period_parameters': [(7,0.5,7)],\n",
        "})\n",
        "\n",
        "config = re.sub('\"', '%', config)"
      ],
      "execution_count": 0,
      "outputs": []
    },
    {
      "cell_type": "code",
      "metadata": {
        "id": "8H9O70HaSXp9",
        "colab_type": "code",
        "outputId": "7560139c-2d3f-468c-8cf0-23c7e53572c9",
        "colab": {
          "base_uri": "https://localhost:8080/",
          "height": 87
        }
      },
      "source": [
        "! python feature_generation/generate_past_demand_features.py -c=\"$config\""
      ],
      "execution_count": 119,
      "outputs": [
        {
          "output_type": "stream",
          "text": [
            "tcmalloc: large alloc 1816059904 bytes == 0xac648000 @  0x7f5b59eb41e7 0x7f5b57a1a5e1 0x7f5b57a7ec78 0x7f5b57a7ed93 0x7f5b57b1cea8 0x7f5b57b1d704 0x7f5b57b1d852 0x566d63 0x59fc4e 0x7f5b57a6a4ed 0x50a2bf 0x50bfb4 0x507d64 0x509a90 0x50a48d 0x50bfb4 0x507d64 0x588d41 0x59fc4e 0x7f5b57a6a4ed 0x50a2bf 0x50bfb4 0x507d64 0x509a90 0x50a48d 0x50bfb4 0x507d64 0x509a90 0x50a48d 0x50cd96 0x509758\n",
            "tcmalloc: large alloc 1816059904 bytes == 0x118a36000 @  0x7f5b59eb41e7 0x7f5b57a1a5e1 0x7f5b57a7ec78 0x7f5b57a7ed93 0x7f5b57b09ed6 0x7f5b57b0a338 0x50c29e 0x507d64 0x509a90 0x50a48d 0x50cd96 0x509758 0x50a48d 0x50bfb4 0x509758 0x50a48d 0x50bfb4 0x509758 0x50a48d 0x50bfb4 0x507d64 0x509a90 0x50a48d 0x50bfb4 0x509758 0x50a48d 0x50bfb4 0x507d64 0x509a90 0x50a48d 0x50bfb4\n",
            "tcmalloc: large alloc 1634451456 bytes == 0xac648000 @  0x7f5b59eb41e7 0x7f5b57a1a5e1 0x7f5b57a7ec78 0x7f5b57a7ef37 0x7f5b57b16f28 0x50a635 0x50cd96 0x507d64 0x509a90 0x50a48d 0x50cd96 0x507d64 0x509a90 0x50a48d 0x50cd96 0x507d64 0x509a90 0x50a48d 0x50cd96 0x507d64 0x509a90 0x50a48d 0x50cd96 0x507d64 0x509a90 0x50a48d 0x50cd96 0x507d64 0x509a90 0x50a48d 0x50bfb4\n"
          ],
          "name": "stdout"
        }
      ]
    },
    {
      "cell_type": "code",
      "metadata": {
        "id": "8whU9UkFp0Qr",
        "colab_type": "code",
        "colab": {}
      },
      "source": [
        ""
      ],
      "execution_count": 0,
      "outputs": []
    },
    {
      "cell_type": "markdown",
      "metadata": {
        "id": "8ROkwp_rSXqj",
        "colab_type": "text"
      },
      "source": [
        "## Этап 3: Разделение данных на обучение и контроль\n",
        "\n",
        "Для обучения данных необходимо разбить данные на обучение, валидацию (для подбора гиперпараметров) и тест (для финальной оценки качества модели).\n",
        "В качестве теста логично брать последние несколько дней, для валидации - несколько дней непосредственно перед тестом, и все остальное - для обучения.\n",
        "\n",
        "Однако, данные отложенные для тестирования и валидации являются самыми ценными, т.к. идут непосредственно перед пресказываемыми данными. Поэтому, настроив гиперпараметры на валидации, необходимо расширить обучающие данные за счет валидации и обучить финальную модель с известными гиперпараметрами на расширенных данных. Это необходимо будет сделать перед засылкой результата модели в соревнование.\n",
        "\n",
        "В модуле `convert_csv_to_numpy` реализовано два типа разбиения данных: train/validation/test и train/test для настройки гиперпараметров модели и для обучения финальной модели соответственно. Запустите модуль из командной строки, чтобы получить разбиения."
      ]
    },
    {
      "cell_type": "code",
      "metadata": {
        "id": "8mqKR01aSXqk",
        "colab_type": "code",
        "outputId": "8950bee5-d43f-444f-e9e3-815fa240e2c0",
        "colab": {
          "base_uri": "https://localhost:8080/",
          "height": 87
        }
      },
      "source": [
        "! python feature_generation/convert_csv_to_numpy.py"
      ],
      "execution_count": 120,
      "outputs": [
        {
          "output_type": "stream",
          "text": [
            "tcmalloc: large alloc 5084954624 bytes == 0x18356000 @  0x7f6971e4a001 0x7f696f9ae765 0x7f696fa12bb0 0x7f696fa14a4f 0x7f696faab048 0x50a635 0x50bfb4 0x509758 0x50a48d 0x50bfb4 0x507d64 0x50ae13 0x634c82 0x634d37 0x6384ef 0x639091 0x4b0d00 0x7f6971a45b97 0x5b250a\n",
            "tcmalloc: large alloc 3032096768 bytes == 0x150d9e000 @  0x7f6971e481e7 0x7f696f9ae5e1 0x7f696fa12c78 0x7f696fa12d93 0x7f696fa9ded6 0x7f696fa9e338 0x50c29e 0x507d64 0x50ae13 0x634c82 0x634d37 0x6384ef 0x639091 0x4b0d00 0x7f6971a45b97 0x5b250a\n",
            "tcmalloc: large alloc 3414564864 bytes == 0x21518c000 @  0x7f6971e481e7 0x7f696f9ae5e1 0x7f696fa12c78 0x7f696fa12d93 0x7f696fa9ded6 0x7f696fa9e338 0x50c29e 0x507d64 0x50ae13 0x634c82 0x634d37 0x6384ef 0x639091 0x4b0d00 0x7f6971a45b97 0x5b250a\n"
          ],
          "name": "stdout"
        }
      ]
    },
    {
      "cell_type": "markdown",
      "metadata": {
        "id": "MZD9xnrHSXqm",
        "colab_type": "text"
      },
      "source": [
        "## Этап 4: Пересчёт значений признаков (6 балла)\n",
        "\n",
        "При вычислении предсказания на тестовые 28 дней вперёд возникает ситуация, когда значения некоторых признаков оказываются неизвестными. В этом случае, эти значения необходимо заполнять с помощью предсказаний модели, полученных для меньшего горизонта прогнозирования. Например, признак количество продаж один день назад, будет вычисляться как предсказание модели в предыдущий день.\n",
        "\n",
        "В этой части для каждого из признаков необходимо реализовать функцию пересчёта значений признака с учётом поступивших новых предсказаний модели. Заметим, что некоторые признаки можно легко пересчитать только имея информацию о других признаках.\n",
        "\n",
        "**Задача 1**. Дано значение признака $f(t,i,j, d)$ в моменты времени от $\\tau$ до $\\tau + k$. Какие признаки необходимо иметь в модели, чтобы за $O(1)$ можно было пересчитать $f(\\tau+k+1,i,j,d)$? Приведите формулу пересчёта ниже.\n",
        "\n",
        "**Задача 2**. Дано значение признака $g(t,i,\\beta, d)$ в моменты времени от $\\tau$ до $\\tau + k$. Какие признаки необходимо иметь в модели, чтобы за $O(1)$ можно было пересчитать $g(\\tau+k+1,i,\\beta,d)$? Приведите формулу пересчёта ниже.\n",
        "\n",
        "**Внимание**. Не забудьте учесть случаи разных $k$!"
      ]
    },
    {
      "cell_type": "markdown",
      "metadata": {
        "id": "b_pQzbtsSXqn",
        "colab_type": "text"
      },
      "source": [
        "1.$f(\\tau+k+1,i,j,d) = f(\\tau+k+1-d,i,j,d) + \\frac{1}{j}(y_{\\tau+k+1-i} - y_{\\tau+k+1-i-j*d})$"
      ]
    },
    {
      "cell_type": "markdown",
      "metadata": {
        "id": "33-NNqZ0SXqn",
        "colab_type": "text"
      },
      "source": [
        "2.$g(\\tau+k+1,i,\\beta,d) = \\beta g(\\tau+k+1-d,i,\\beta,d)  + (1-\\beta)y_{\\tau+k+1-i}$"
      ]
    },
    {
      "cell_type": "markdown",
      "metadata": {
        "id": "K0fVzzOLSXqo",
        "colab_type": "text"
      },
      "source": [
        "Если $k < d$ нам нужно иметь признак $f(\\tau+k+1-d,i,j,d)$ и $g(\\tau+k+1-d,i,\\beta,d)$ + слобец $y$"
      ]
    },
    {
      "cell_type": "markdown",
      "metadata": {
        "id": "4gLYyQWjSXqo",
        "colab_type": "text"
      },
      "source": [
        "Реализацию пересчёта признаков необходимо выполнить в модуле `feature_recalculation`. Категориальные признаки в этом модуле пересчитывать не нужно."
      ]
    },
    {
      "cell_type": "markdown",
      "metadata": {
        "id": "lxUScq9bSXqp",
        "colab_type": "text"
      },
      "source": [
        "## Этап 5: Построение и валидация модели"
      ]
    },
    {
      "cell_type": "markdown",
      "metadata": {
        "id": "VEQOwf-ASXqq",
        "colab_type": "text"
      },
      "source": [
        "В качестве основной метрики задачи испольузется функционал WRMSSE (подробнее о нём можно узнать из соответствующей презентации к семинару). Логично, при обучении модели настраиваться именно на конкретный функционал. \n",
        "\n",
        "Чтобы не тратить каждый раз память на подготовку данных для подсчёта функционала по метрике, выполните скрипт `utils/generate_evaluators` и сохраните данные для эвалюаторов на диск."
      ]
    },
    {
      "cell_type": "code",
      "metadata": {
        "id": "B0tPLva4SXqq",
        "colab_type": "code",
        "outputId": "8a45c65c-c424-4880-8fc3-2aa6b2ba1d82",
        "colab": {
          "base_uri": "https://localhost:8080/",
          "height": 50
        }
      },
      "source": [
        "! python utils/generate_evaluators.py"
      ],
      "execution_count": 0,
      "outputs": [
        {
          "output_type": "stream",
          "text": [
            "100% 42840/42840 [00:07<00:00, 5738.11it/s]\n",
            "100% 42840/42840 [00:07<00:00, 5646.78it/s]\n"
          ],
          "name": "stdout"
        }
      ]
    },
    {
      "cell_type": "markdown",
      "metadata": {
        "id": "kkRyQ5frSXqt",
        "colab_type": "text"
      },
      "source": [
        "В качестве основной модели построения предсказаний вам предлагается использовать градиентный бустинг (рекомендуем использовать lightgbm для быстроты проведения экспериментов). \n",
        "\n",
        "Для сравнения результатов моделей вам необходимо использовать следующую схему:\n",
        "\n",
        "1. Обучение бустинга на train выборке на функционал MSE, валидация на val выборке по функционалу WRMSE.\n",
        "2. Получение предсказаний на test выборке, с использованием рекурсивного пересчёта признаков\n",
        "\n",
        "Обратите внимание, что на шаге 1 использовать рекурсивный пересчёт не нужно, т.к. это сильно замедлит обучение (более того, для ускорения обучения рекомендуется измерять значения функционала на валидации лишь раз в $n$ итераций). Однако, на тестовых данных всё должно быть максимально приближенно к реальности, поэтому признаки необходимо пересчитывать на ходу.\n",
        "\n",
        "**Совет**. Чтобы точно получить правильный результат на тесте, можно после считывания данных специально занулить \"неизвестные\" значения признаков."
      ]
    },
    {
      "cell_type": "markdown",
      "metadata": {
        "id": "UwtXUn9LSXqt",
        "colab_type": "text"
      },
      "source": [
        "## Этап 6: Эксперименты (5)"
      ]
    },
    {
      "cell_type": "markdown",
      "metadata": {
        "id": "psRW4rULSXqu",
        "colab_type": "text"
      },
      "source": [
        "### 1 Эксперимент\n",
        "\n",
        "Сравните по указанной выше схеме результаты две модели.\n",
        "\n",
        "1. Модель с двумя вещественными признаками:\n",
        "\n",
        "    $f(t, i, 1, 1)$, $i \\in \\{7, 28\\}$\n",
        "\n",
        "\n",
        "2. Модель с восемью вещественными признаками:\n",
        "\n",
        "    $ f(t, i, 1, 1)$, $i \\in [1, 7] \\cup \\{28\\}$\n",
        "\n",
        "Сделайте выводы о качестве работы моделей на валидации и отложенной выборке и заполните таблицу ниже:\n",
        "\n",
        "| WRMSSE        | val без пересчёта | test без пересчёта | test с пересчётом |\n",
        "|---------------|-------------------|--------------------|-------------------|\n",
        "| Первая модель |    0.723          |       0.584        |    0.784          |\n",
        "| Вторая модель |    0.6297         |       0.5465       |    1.44           |"
      ]
    },
    {
      "cell_type": "markdown",
      "metadata": {
        "id": "REE3eSTGSXqv",
        "colab_type": "text"
      },
      "source": [
        "Ниже пример запуска экспериментов:  "
      ]
    },
    {
      "cell_type": "code",
      "metadata": {
        "id": "mAH1Lk50SXqv",
        "colab_type": "code",
        "colab": {}
      },
      "source": [
        "## ваш код для подсчёта нужных признаков"
      ],
      "execution_count": 0,
      "outputs": []
    },
    {
      "cell_type": "code",
      "metadata": {
        "id": "h70c01JASXqy",
        "colab_type": "code",
        "colab": {}
      },
      "source": [
        "# здесь хранится соответствие колонок признакам\n",
        "import json\n",
        "import numpy as np\n",
        "with open('data/final_feature_header.json') as f:\n",
        "    header = json.load(f)\n",
        "\n",
        "target_column = header.index('demand')\n",
        "day_column = header.index('day_as_int')\n",
        "\n",
        "X = {}\n",
        "y = {}\n",
        "X_day = {}\n",
        "\n",
        "for val_type in ['train', 'val', 'test']:\n",
        "    X[val_type] = np.load(f'data/X_{val_type}_validation.npy')\n",
        "    y[val_type] = np.copy(X[val_type][:, target_column])\n",
        "    X_day[val_type] = np.copy(X[val_type][:, day_column])\n",
        "    # костыль, чтобы не пересчитывать большие массивы\n",
        "    X[val_type][:, target_column] = 1\n",
        "    X[val_type][:, day_column] = 1\n",
        "    \n",
        "\n",
        "\n",
        "# # может быть полезно отсортировать тестовые массивы\n",
        "# # по дням внутри каждого ряда\n",
        "# header_to_index = dict(zip(header, range(len(header))))\n",
        "# day_index = header_to_index['day_as_int']\n",
        "# item_index = header_to_index['item_id']\n",
        "# store_index = header_to_index['store_id']\n",
        "\n",
        "# for val_type in ['val', 'test']:\n",
        "#     sorted_indexes = np.lexsort((\n",
        "#         X[val_type][:, store_index].ravel(),\n",
        "#         X[val_type][:, item_index].ravel(),\n",
        "#         X_day[val_type].ravel(),\n",
        "#     ))\n",
        "\n",
        "#     X[val_type] = X[val_type][sorted_indexes]\n",
        "#     X_day[val_type] = X_day[val_type][sorted_indexes]"
      ],
      "execution_count": 0,
      "outputs": []
    },
    {
      "cell_type": "code",
      "metadata": {
        "id": "AD5PPccpSXq0",
        "colab_type": "code",
        "colab": {}
      },
      "source": [
        "import pickle\n",
        "from utils.generate_evaluators import WRMSSEEvaluator\n",
        "from lightgbm import LGBMRegressor\n",
        "# загрузка вспомогательных сущностей\n",
        "\n",
        "# соответствие категориальных фичей их кодам\n",
        "with open('data/label_codes_dict.json', 'rb') as f:\n",
        "    label_codes_dict = json.load(f)\n",
        "\n",
        "# эвалюаторы\n",
        "with open('evaluators/valid_evaluator.pkl', 'rb') as f:\n",
        "    val_evaluator = pickle.load(f)\n",
        "    \n",
        "with open('evaluators/test_evaluator.pkl', 'rb') as f:\n",
        "    test_evaluator = pickle.load(f)"
      ],
      "execution_count": 0,
      "outputs": []
    },
    {
      "cell_type": "markdown",
      "metadata": {
        "id": "o02OyKXgSXq6",
        "colab_type": "text"
      },
      "source": [
        "Напишите класс для подачи в интерфейс LighGBM, позволяющий вычислять значение метрики, используя готовый evaluator. Не забудьте предусмотреть вычисление лишь раз в $n$ итераций."
      ]
    },
    {
      "cell_type": "code",
      "metadata": {
        "id": "7YHfh22WSXq7",
        "colab_type": "code",
        "colab": {}
      },
      "source": [
        "class WRMSSEEvalMetric:\n",
        "    def __init__(self, evaluator, ids, verbose_step=5):\n",
        "        self.evaluator = evaluator\n",
        "        self.verbose_step = verbose_step\n",
        "        self.ids = ids\n",
        "        self.current_step = 0\n",
        "    \n",
        "    def __call__(self, y_true, y_pred):\n",
        "        if self.current_step == 0:\n",
        "            buf_df = pd.DataFrame(y_pred.reshape(30490, 28))\n",
        "            buf_df['id'] = self.ids\n",
        "            buf_df1 = self.evaluator.valid_df.iloc[:,:1]\n",
        "            buf_df2 = buf_df1.merge(buf_df, left_on='id', right_on='id')\n",
        "            y = self.evaluator.score(buf_df2.iloc[:, 1:].values)\n",
        "        elif self.current_step == self.verbose_step - 1:\n",
        "            self.current_step = 0\n",
        "        else:\n",
        "            self.current_step += 1\n",
        "        return 'WRMSSE', y, False"
      ],
      "execution_count": 0,
      "outputs": []
    },
    {
      "cell_type": "code",
      "metadata": {
        "id": "rgmkpOTWGhSP",
        "colab_type": "code",
        "colab": {}
      },
      "source": [
        "index_to_item_id = {value: key for key, value in label_codes_dict['item_id'].items()}\n",
        "X_val_item_ids = [index_to_item_id[elem] for elem in X['val'][:, header.index('item_id')]]\n",
        "index_to_store_id = {value: key for key, value in label_codes_dict['store_id'].items()}\n",
        "X_val_store_ids = [index_to_store_id[elem] for elem in X['val'][:, header.index('store_id')]]\n",
        "X_val_submission_index = [\n",
        "            f'{item_id}_{store_id}_validation'\n",
        "            for item_id, store_id in zip(X_val_item_ids, X_val_store_ids)\n",
        "        ]"
      ],
      "execution_count": 0,
      "outputs": []
    },
    {
      "cell_type": "code",
      "metadata": {
        "id": "ycdMwWoG6465",
        "colab_type": "code",
        "colab": {}
      },
      "source": [
        "index_to_item_id = {value: key for key, value in label_codes_dict['item_id'].items()}\n",
        "X_val_item_ids = [index_to_item_id[elem] for elem in X['test'][:, header.index('item_id')]]\n",
        "index_to_store_id = {value: key for key, value in label_codes_dict['store_id'].items()}\n",
        "X_val_store_ids = [index_to_store_id[elem] for elem in X['test'][:, header.index('store_id')]]\n",
        "X_test_submission_index = [\n",
        "            f'{item_id}_{store_id}_validation'\n",
        "            for item_id, store_id in zip(X_val_item_ids, X_val_store_ids)\n",
        "        ]"
      ],
      "execution_count": 0,
      "outputs": []
    },
    {
      "cell_type": "code",
      "metadata": {
        "id": "lbXBwY5o7Bo7",
        "colab_type": "code",
        "colab": {}
      },
      "source": [
        ""
      ],
      "execution_count": 0,
      "outputs": []
    },
    {
      "cell_type": "code",
      "metadata": {
        "id": "pNfXxFZKGmgw",
        "colab_type": "code",
        "outputId": "66e3ef29-3773-4883-beb9-3d6ef2b9321a",
        "colab": {
          "base_uri": "https://localhost:8080/",
          "height": 34
        }
      },
      "source": [
        "wrmsse_val_eval_metric = WRMSSEEvalMetric(\n",
        "    val_evaluator,\n",
        "    ids = X_val_submission_index[::28],\n",
        "    verbose_step=10,\n",
        ")\n",
        "wrmsse_val_eval_metric( 0 ,y['val'] )"
      ],
      "execution_count": 178,
      "outputs": [
        {
          "output_type": "execute_result",
          "data": {
            "text/plain": [
              "('WRMSSE', 0.0, False)"
            ]
          },
          "metadata": {
            "tags": []
          },
          "execution_count": 178
        }
      ]
    },
    {
      "cell_type": "code",
      "metadata": {
        "id": "AV6cPl32-56G",
        "colab_type": "code",
        "outputId": "81ea2346-bb48-4846-a24d-67650dc120d4",
        "colab": {
          "base_uri": "https://localhost:8080/",
          "height": 34
        }
      },
      "source": [
        "wrmsse_val_test_metric = WRMSSEEvalMetric(\n",
        "    test_evaluator,\n",
        "    ids = X_test_submission_index[::28],\n",
        "    verbose_step=10,\n",
        ")\n",
        "wrmsse_val_test_metric( 0 , y['test'])"
      ],
      "execution_count": 179,
      "outputs": [
        {
          "output_type": "execute_result",
          "data": {
            "text/plain": [
              "('WRMSSE', 0.0, False)"
            ]
          },
          "metadata": {
            "tags": []
          },
          "execution_count": 179
        }
      ]
    },
    {
      "cell_type": "code",
      "metadata": {
        "id": "08SoWf_aSXq-",
        "colab_type": "code",
        "colab": {}
      },
      "source": [
        "regressor = LGBMRegressor(\n",
        "    n_estimators=300,\n",
        "    learning_rate=0.1,\n",
        "    objective='mse',\n",
        "    metric=\"None\"\n",
        ")\n",
        "\n",
        "wrmsse_val_eval_metric = WRMSSEEvalMetric(\n",
        "    val_evaluator,\n",
        "    ids = X_val_submission_index[::28],\n",
        "    verbose_step=10,\n",
        ")"
      ],
      "execution_count": 0,
      "outputs": []
    },
    {
      "cell_type": "code",
      "metadata": {
        "id": "yfwtJfZsthH1",
        "colab_type": "code",
        "colab": {}
      },
      "source": [
        "mask = list(np.arange(19)) + [26,27]\n",
        "X['train'] = X['train'][:, mask]"
      ],
      "execution_count": 0,
      "outputs": []
    },
    {
      "cell_type": "code",
      "metadata": {
        "id": "_2870kj5uMJw",
        "colab_type": "code",
        "colab": {}
      },
      "source": [
        "X['val'] = X['val'][:, mask]\n",
        "X['test'] = X['test'][:, mask]"
      ],
      "execution_count": 0,
      "outputs": []
    },
    {
      "cell_type": "code",
      "metadata": {
        "id": "HEI8m3DWSXrB",
        "colab_type": "code",
        "outputId": "460a4c54-feb7-4d9b-953b-dac04424573f",
        "colab": {
          "base_uri": "https://localhost:8080/",
          "height": 336
        }
      },
      "source": [
        "regressor.fit(\n",
        "   X['train'], y['train'],\n",
        "   eval_set=[(X['val'], y['val'])],\n",
        "   eval_metric=wrmsse_val_eval_metric,\n",
        "   early_stopping_rounds=30,\n",
        "   verbose=10,\n",
        ")"
      ],
      "execution_count": 187,
      "outputs": [
        {
          "output_type": "stream",
          "text": [
            "Training until validation scores don't improve for 30 rounds.\n",
            "[10]\tvalid_0's WRMSSE: 1.22307\n",
            "[20]\tvalid_0's WRMSSE: 0.890328\n",
            "[30]\tvalid_0's WRMSSE: 0.768637\n",
            "[40]\tvalid_0's WRMSSE: 0.71543\n",
            "[50]\tvalid_0's WRMSSE: 0.683952\n",
            "[60]\tvalid_0's WRMSSE: 0.674085\n",
            "[70]\tvalid_0's WRMSSE: 0.671131\n",
            "[80]\tvalid_0's WRMSSE: 0.668675\n",
            "[90]\tvalid_0's WRMSSE: 0.674645\n",
            "Early stopping, best iteration is:\n",
            "[65]\tvalid_0's WRMSSE: 0.668319\n"
          ],
          "name": "stdout"
        },
        {
          "output_type": "execute_result",
          "data": {
            "text/plain": [
              "LGBMRegressor(boosting_type='gbdt', class_weight=None, colsample_bytree=1.0,\n",
              "              importance_type='split', learning_rate=0.1, max_depth=-1,\n",
              "              metric='None', min_child_samples=20, min_child_weight=0.001,\n",
              "              min_split_gain=0.0, n_estimators=300, n_jobs=-1, num_leaves=31,\n",
              "              objective='mse', random_state=None, reg_alpha=0.0, reg_lambda=0.0,\n",
              "              silent=True, subsample=1.0, subsample_for_bin=200000,\n",
              "              subsample_freq=0)"
            ]
          },
          "metadata": {
            "tags": []
          },
          "execution_count": 187
        }
      ]
    },
    {
      "cell_type": "code",
      "metadata": {
        "id": "wuUCOiKYOOo6",
        "colab_type": "code",
        "colab": {}
      },
      "source": [
        "with open('model4.pkl', 'wb') as fout:\n",
        "    pickle.dump(regressor, fout)"
      ],
      "execution_count": 0,
      "outputs": []
    },
    {
      "cell_type": "code",
      "metadata": {
        "id": "t_GCOzJahzEg",
        "colab_type": "code",
        "colab": {}
      },
      "source": [
        "with open('model1.pkl', 'rb') as fin:\n",
        "    regressor = pickle.load(fin)"
      ],
      "execution_count": 0,
      "outputs": []
    },
    {
      "cell_type": "code",
      "metadata": {
        "id": "sKPCNwuYQwJL",
        "colab_type": "code",
        "outputId": "484f24c3-b5e2-457e-cc54-00404319a814",
        "colab": {
          "base_uri": "https://localhost:8080/",
          "height": 34
        }
      },
      "source": [
        "wrmsse_val_eval_metric( 0 , regressor.predict(X['val']))"
      ],
      "execution_count": 189,
      "outputs": [
        {
          "output_type": "execute_result",
          "data": {
            "text/plain": [
              "('WRMSSE', 0.6683191050367137, False)"
            ]
          },
          "metadata": {
            "tags": []
          },
          "execution_count": 189
        }
      ]
    },
    {
      "cell_type": "code",
      "metadata": {
        "id": "Cq8HiW0sRO9D",
        "colab_type": "code",
        "outputId": "85fd188f-7a45-4a65-aefc-94dbd53a7aef",
        "colab": {
          "base_uri": "https://localhost:8080/",
          "height": 34
        }
      },
      "source": [
        "wrmsse_val_test_metric( 0 , regressor.predict(X['test']))"
      ],
      "execution_count": 190,
      "outputs": [
        {
          "output_type": "execute_result",
          "data": {
            "text/plain": [
              "('WRMSSE', 0.5602416797004593, False)"
            ]
          },
          "metadata": {
            "tags": []
          },
          "execution_count": 190
        }
      ]
    },
    {
      "cell_type": "code",
      "metadata": {
        "id": "bnaCQvuHIMWJ",
        "colab_type": "code",
        "colab": {}
      },
      "source": [
        "day_column = header.index('day_as_int')"
      ],
      "execution_count": 0,
      "outputs": []
    },
    {
      "cell_type": "code",
      "metadata": {
        "id": "BcWp8RCIIh5U",
        "colab_type": "code",
        "colab": {}
      },
      "source": [
        "X['test'][:, day_column] = X_day['test']"
      ],
      "execution_count": 0,
      "outputs": []
    },
    {
      "cell_type": "code",
      "metadata": {
        "id": "74b2ksasbGL0",
        "colab_type": "code",
        "colab": {}
      },
      "source": [
        "a = np.load('data/X_train_evaluation.npy')\n",
        "y_for_rec = a[:,6:8]\n",
        "y_for_rec = y_for_rec[y_for_rec[:,1] > 1850]"
      ],
      "execution_count": 0,
      "outputs": []
    },
    {
      "cell_type": "code",
      "metadata": {
        "id": "Gk6H7ZcR2MxO",
        "colab_type": "code",
        "colab": {}
      },
      "source": [
        ""
      ],
      "execution_count": 0,
      "outputs": []
    },
    {
      "cell_type": "code",
      "metadata": {
        "id": "mVFctfmcrhpL",
        "colab_type": "code",
        "outputId": "19b6f79c-1fc0-4819-f02b-20b7388fb33d",
        "colab": {
          "base_uri": "https://localhost:8080/",
          "height": 34
        }
      },
      "source": [
        "import importlib\n",
        "importlib.reload(feature_generation.feature_recalculation)"
      ],
      "execution_count": 207,
      "outputs": [
        {
          "output_type": "execute_result",
          "data": {
            "text/plain": [
              "<module 'feature_generation.feature_recalculation' from '/content/feature_generation/feature_recalculation.py'>"
            ]
          },
          "metadata": {
            "tags": []
          },
          "execution_count": 207
        }
      ]
    },
    {
      "cell_type": "code",
      "metadata": {
        "id": "fI4O-Ec4RdzF",
        "colab_type": "code",
        "colab": {}
      },
      "source": [
        "import feature_generation.feature_recalculation\n",
        "test_rec_pred = feature_generation.feature_recalculation.RecursivePredictor(header, regressor, label_codes_dict, y=y_for_rec)"
      ],
      "execution_count": 0,
      "outputs": []
    },
    {
      "cell_type": "code",
      "metadata": {
        "id": "jmOig6_QTgSi",
        "colab_type": "code",
        "colab": {}
      },
      "source": [
        "y_test_pred = test_rec_pred.get_recursive_prediction(X['test'], num_col_for_rec=2, day_range=28, start=1886)"
      ],
      "execution_count": 0,
      "outputs": []
    },
    {
      "cell_type": "code",
      "metadata": {
        "id": "GBwwbhzRgpyg",
        "colab_type": "code",
        "colab": {}
      },
      "source": [
        "new_y = test_rec_pred.y[test_rec_pred.y[:,1]>=1886][:, 0]"
      ],
      "execution_count": 0,
      "outputs": []
    },
    {
      "cell_type": "code",
      "metadata": {
        "id": "nQ5TxGcedASV",
        "colab_type": "code",
        "outputId": "62120361-608d-4327-9916-2b6482dd2043",
        "colab": {
          "base_uri": "https://localhost:8080/",
          "height": 34
        }
      },
      "source": [
        "wrmsse_val_test_metric( 0 , new_y)"
      ],
      "execution_count": 211,
      "outputs": [
        {
          "output_type": "execute_result",
          "data": {
            "text/plain": [
              "('WRMSSE', 0.8188288213562066, False)"
            ]
          },
          "metadata": {
            "tags": []
          },
          "execution_count": 211
        }
      ]
    },
    {
      "cell_type": "markdown",
      "metadata": {
        "id": "5VTw2elbSXrE",
        "colab_type": "text"
      },
      "source": [
        "### 2 Эксперимент\n",
        "\n",
        "Сравните по указанной выше схеме результаты двух моделей:\n",
        "\n",
        "1. Модель с признаками:\n",
        "\n",
        "    $f(t, i, 1, 1)$, $i \\in \\{7, 14, 21, 28, 35, 42, 49\\}$\n",
        "    \n",
        "    \n",
        "2. Модель с признаками:\n",
        "\n",
        "    $f(t, 7, 7, 7)$, $g(t, 7, 0.5, 7)$\n",
        "    \n",
        "Сделайте выводы о качестве работы моделей на валидации и отложенной выборке и заполните таблицу ниже:\n",
        "\n",
        "| WRMSSE        | val без пересчёта | test без пересчёта | test с пересчётом |\n",
        "|---------------|-------------------|--------------------|-------------------|\n",
        "| Первая модель |      0.6708       |     0.5574         |   0.8579          |\n",
        "| Вторая модель |      0.6683       |     0.56024        |   0.818           |"
      ]
    },
    {
      "cell_type": "markdown",
      "metadata": {
        "id": "leNxBIceSXrE",
        "colab_type": "text"
      },
      "source": [
        "## Этап 7. Получение результата для засылки в контест (1 балл)\n",
        "\n",
        "Пришло время заслать своё решение в соревнование.\n",
        "Ваше решение должно преодолеть скор бейзлайна 0.565.\n",
        "\n",
        "Преодолевшие скор бейзлайна могут получить бонусные баллы.\n",
        "Ваш бонусный балл вычисляется по следующей функции:\n",
        "\n",
        "`\n",
        "int(np.linspace(5, 0, n_students)[your_place])\n",
        "`\n",
        "\n",
        "где `n_students` — количество студентов, преодолевших бейзлайн, `your_place` — ваше место среди студентов OzonMasters."
      ]
    },
    {
      "cell_type": "code",
      "metadata": {
        "id": "VtDhQIIGSXrF",
        "colab_type": "code",
        "colab": {}
      },
      "source": [
        "X = {}\n",
        "y = {}\n",
        "X_day = {}\n",
        "\n",
        "for val_type in ['train', 'test']:\n",
        "    X[val_type] = np.load(f'data/X_{val_type}_evaluation.npy')\n",
        "    y[val_type] = np.copy(X[val_type][:, target_column])\n",
        "    X_day[val_type] = np.copy(X[val_type][:, day_column])\n",
        "    # костыль, чтобы не пересчитывать большие массивы\n",
        "    X[val_type][:, target_column] = 1\n",
        "    X[val_type][:, day_column] = 1"
      ],
      "execution_count": 0,
      "outputs": []
    },
    {
      "cell_type": "code",
      "metadata": {
        "id": "CDirv7hHBUOh",
        "colab_type": "code",
        "colab": {
          "base_uri": "https://localhost:8080/",
          "height": 134
        },
        "outputId": "44b3853a-d439-46f9-a200-094915ad393e"
      },
      "source": [
        "regressor = LGBMRegressor(\n",
        "    n_estimators=200,\n",
        "    learning_rate=0.1,\n",
        "    objective='mse',\n",
        "    metric=\"None\"\n",
        ")\n",
        "regressor.fit(\n",
        "   X['train'], y['train'],   \n",
        ")"
      ],
      "execution_count": 215,
      "outputs": [
        {
          "output_type": "execute_result",
          "data": {
            "text/plain": [
              "LGBMRegressor(boosting_type='gbdt', class_weight=None, colsample_bytree=1.0,\n",
              "              importance_type='split', learning_rate=0.1, max_depth=-1,\n",
              "              metric='None', min_child_samples=20, min_child_weight=0.001,\n",
              "              min_split_gain=0.0, n_estimators=200, n_jobs=-1, num_leaves=31,\n",
              "              objective='mse', random_state=None, reg_alpha=0.0, reg_lambda=0.0,\n",
              "              silent=True, subsample=1.0, subsample_for_bin=200000,\n",
              "              subsample_freq=0)"
            ]
          },
          "metadata": {
            "tags": []
          },
          "execution_count": 215
        }
      ]
    },
    {
      "cell_type": "code",
      "metadata": {
        "id": "PKTvW0HXCDxg",
        "colab_type": "code",
        "colab": {}
      },
      "source": [
        "with open('model5.pkl', 'wb') as fout:\n",
        "    pickle.dump(regressor, fout)"
      ],
      "execution_count": 0,
      "outputs": []
    },
    {
      "cell_type": "code",
      "metadata": {
        "id": "dNruvLqxFUma",
        "colab_type": "code",
        "colab": {}
      },
      "source": [
        "index_to_item_id = {value: key for key, value in label_codes_dict['item_id'].items()}\n",
        "X_val_item_ids = [index_to_item_id[elem] for elem in X['test'][:, header.index('item_id')]]\n",
        "index_to_store_id = {value: key for key, value in label_codes_dict['store_id'].items()}\n",
        "X_val_store_ids = [index_to_store_id[elem] for elem in X['test'][:, header.index('store_id')]]\n",
        "X_test_submission_index = [\n",
        "            f'{item_id}_{store_id}_validation'\n",
        "            for item_id, store_id in zip(X_val_item_ids, X_val_store_ids)\n",
        "        ]"
      ],
      "execution_count": 0,
      "outputs": []
    },
    {
      "cell_type": "code",
      "metadata": {
        "id": "lGS71u7zGQjc",
        "colab_type": "code",
        "colab": {}
      },
      "source": [
        "a = np.load('data/X_train_evaluation.npy')\n",
        "y_for_rec = a[:,6:8]\n",
        "y_for_rec = y_for_rec[y_for_rec[:,1] > 1850]"
      ],
      "execution_count": 0,
      "outputs": []
    },
    {
      "cell_type": "code",
      "metadata": {
        "id": "qyLsgA5OGz-L",
        "colab_type": "code",
        "colab": {}
      },
      "source": [
        "del a"
      ],
      "execution_count": 0,
      "outputs": []
    },
    {
      "cell_type": "code",
      "metadata": {
        "id": "Qrqcx0FYG2R5",
        "colab_type": "code",
        "colab": {}
      },
      "source": [
        "y_1 = np.zeros((30490, 63+28, 2))\n",
        "y_new = y_for_rec.reshape(30490, 63, 2)\n",
        "for i in range(30490):\n",
        "  y_1[i,:, 1] = np.arange(1851, 1914+28)\n",
        "  y_1[i,:63, 0] = y_new[i,:,0]"
      ],
      "execution_count": 0,
      "outputs": []
    },
    {
      "cell_type": "code",
      "metadata": {
        "id": "nwwXBzODH5ew",
        "colab_type": "code",
        "colab": {}
      },
      "source": [
        "y_1 = y_1.reshape(30490*91,2)"
      ],
      "execution_count": 0,
      "outputs": []
    },
    {
      "cell_type": "code",
      "metadata": {
        "id": "o3sTztJDIbt9",
        "colab_type": "code",
        "colab": {}
      },
      "source": [
        "X['test'][:, day_column] = X_day['test']"
      ],
      "execution_count": 0,
      "outputs": []
    },
    {
      "cell_type": "code",
      "metadata": {
        "id": "Fdg7kj_oFllE",
        "colab_type": "code",
        "colab": {}
      },
      "source": [
        "test_rec_pred = feature_generation.feature_recalculation.RecursivePredictor(header, regressor, label_codes_dict, y=y_1)\n",
        "y_test_pred = test_rec_pred.get_recursive_prediction(X['test'], num_col_for_rec=9, day_range=28)"
      ],
      "execution_count": 0,
      "outputs": []
    },
    {
      "cell_type": "code",
      "metadata": {
        "id": "xr5A41rYCJ2P",
        "colab_type": "code",
        "colab": {}
      },
      "source": [
        "sub = pd.read_csv('data/sample_submission.csv')\n",
        "\n",
        "buf_df = pd.DataFrame(y_test_pred.reshape(30490, 28))\n",
        "buf_df['id'] = X_test_submission_index[::28]\n",
        "buf_df1 = sub.iloc[:,:1]\n",
        "buf_df2 = buf_df1.merge(buf_df, left_on='id', right_on='id')\n"
      ],
      "execution_count": 0,
      "outputs": []
    },
    {
      "cell_type": "code",
      "metadata": {
        "id": "HiPANVTeC6yv",
        "colab_type": "code",
        "colab": {}
      },
      "source": [
        "sub.iloc[:30490,1:] = buf_df2.iloc[:, 1:].values"
      ],
      "execution_count": 0,
      "outputs": []
    },
    {
      "cell_type": "code",
      "metadata": {
        "id": "6La17dy_DWi-",
        "colab_type": "code",
        "colab": {}
      },
      "source": [
        "sub.to_csv('data/submission.csv', index=False)"
      ],
      "execution_count": 0,
      "outputs": []
    }
  ]
}